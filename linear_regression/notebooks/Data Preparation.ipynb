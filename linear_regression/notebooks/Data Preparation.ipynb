{
 "cells": [
  {
   "cell_type": "markdown",
   "metadata": {},
   "source": [
    "# Data Preparation Notebook"
   ]
  },
  {
   "cell_type": "markdown",
   "metadata": {},
   "source": [
    "***"
   ]
  },
  {
   "cell_type": "markdown",
   "metadata": {},
   "source": [
    "## Dependencies"
   ]
  },
  {
   "cell_type": "code",
   "execution_count": 1,
   "metadata": {},
   "outputs": [],
   "source": [
    "import numpy as np\n",
    "import pandas as pd\n",
    "import seaborn as sns\n",
    "import matplotlib as plt\n",
    "\n",
    "from pandas import DataFrame\n",
    "from pandas import Series\n",
    "from numpy import ndarray"
   ]
  },
  {
   "cell_type": "markdown",
   "metadata": {},
   "source": [
    "## Feature Selection"
   ]
  },
  {
   "cell_type": "markdown",
   "metadata": {},
   "source": [
    "### Stoppiglia's Method"
   ]
  },
  {
   "cell_type": "code",
   "execution_count": 57,
   "metadata": {},
   "outputs": [],
   "source": [
    "def cos_similarity(\n",
    "    feature: Series,\n",
    "    target: Series) -> ndarray:\n",
    "    \"\"\"docstring\"\"\"\n",
    "    \n",
    "    # Preparing inputs for calculation\n",
    "    feature_vec = np.array(feature)\n",
    "    target_vec = np.array(target)\n",
    "    \n",
    "    # Cossine_similarity using two vectors\n",
    "    vecs_sqr_inner_prod = np.dot(\n",
    "        feature_vec.T, target_vec) ** 2\n",
    "    \n",
    "    feature_mod = np.dot(feature_vec.T, feature_vec)\n",
    "    target_mod = np.dot(target_vec.T, target_vec)\n",
    "    \n",
    "    mod_prod = feature_mod * target_mod\n",
    "    similatiry = vecs_sqr_inner_prod / mod_prod\n",
    "    \n",
    "    return similatiry"
   ]
  },
  {
   "cell_type": "code",
   "execution_count": 58,
   "metadata": {},
   "outputs": [],
   "source": [
    "def complement_projection(\n",
    "    space_vec: ndarray, to_project: ndarray) -> ndarray:\n",
    "    \"\"\"docstring\"\"\"\n",
    "\n",
    "    complement_vec = np.dot(space_vec, to_project) * space_vec\n",
    "    projection = to_project - complement_vec\n",
    "    return projection"
   ]
  },
  {
   "cell_type": "code",
   "execution_count": 94,
   "metadata": {},
   "outputs": [],
   "source": [
    "def feature_selection(\n",
    "    data: DataFrame, target: Series) -> DataFrame:\n",
    "    \"\"\"docstring\"\"\"\n",
    "    \n",
    "    working_data = data.copy()\n",
    "    \n",
    "    ord_features = []\n",
    "    features = list(data.columns)\n",
    "    \n",
    "    while features:\n",
    "        similarity = {\n",
    "            col: cos_similarity(working_data[col], target)\n",
    "            for col in features\n",
    "        }\n",
    "        \n",
    "        sim_data = DataFrame.from_dict(similarity, orient='index', columns=['sim'])\n",
    "        relevant = sim_data.sort_values('sim').iloc[-1].name\n",
    "        ord_features.append(relevant)\n",
    "        features.remove(relevant)\n",
    "        \n",
    "        for feature in features:\n",
    "            working_data[feature] = complement_projection(\n",
    "                working_data[relevant].values ,working_data[feature].values)\n",
    "        \n",
    "        target = Series(\n",
    "            complement_projection(\n",
    "                working_data[relevant].values, target.values)\n",
    "        )\n",
    "    \n",
    "    return ord_features"
   ]
  },
  {
   "cell_type": "code",
   "execution_count": 101,
   "metadata": {},
   "outputs": [
    {
     "name": "stdout",
     "output_type": "stream",
     "text": [
      "dataset size: 1649\n"
     ]
    }
   ],
   "source": [
    "raw_data = pd.read_csv('data/life-expectancy-data.csv')\n",
    "data = raw_data.dropna()\n",
    "print(f'dataset size: {len(clean_data.index)}')\n",
    "\n",
    "target = clean_data['Life expectancy ']\n",
    "\n",
    "# Removing non-feature columns\n",
    "df = clean_data.drop(\n",
    "    columns=['Country', 'Status', 'Life expectancy '])"
   ]
  },
  {
   "cell_type": "code",
   "execution_count": 102,
   "metadata": {},
   "outputs": [
    {
     "data": {
      "text/plain": [
       "2938"
      ]
     },
     "execution_count": 102,
     "metadata": {},
     "output_type": "execute_result"
    }
   ],
   "source": [
    "len(raw_data.index)"
   ]
  },
  {
   "cell_type": "code",
   "execution_count": 96,
   "metadata": {},
   "outputs": [
    {
     "name": "stderr",
     "output_type": "stream",
     "text": [
      "<ipython-input-57-bd16d5d79be6>:11: RuntimeWarning: overflow encountered in double_scalars\n",
      "  vecs_sqr_inner_prod = np.dot(\n",
      "<ipython-input-57-bd16d5d79be6>:17: RuntimeWarning: overflow encountered in double_scalars\n",
      "  mod_prod = feature_mod * target_mod\n",
      "<ipython-input-57-bd16d5d79be6>:18: RuntimeWarning: invalid value encountered in double_scalars\n",
      "  similatiry = vecs_sqr_inner_prod / mod_prod\n",
      "<ipython-input-58-8e9d274cc4d5>:6: RuntimeWarning: invalid value encountered in subtract\n",
      "  projection = to_project - complement_vec\n"
     ]
    },
    {
     "data": {
      "text/plain": [
       "['Year',\n",
       " 'infant deaths',\n",
       " 'Measles ',\n",
       " 'Schooling',\n",
       " 'Income composition of resources',\n",
       " ' thinness 5-9 years',\n",
       " ' thinness  1-19 years',\n",
       " 'Population',\n",
       " 'GDP',\n",
       " ' HIV/AIDS',\n",
       " 'Diphtheria ',\n",
       " 'Total expenditure',\n",
       " 'Polio',\n",
       " 'under-five deaths ',\n",
       " ' BMI ',\n",
       " 'Hepatitis B',\n",
       " 'percentage expenditure',\n",
       " 'Alcohol',\n",
       " 'Adult Mortality']"
      ]
     },
     "execution_count": 96,
     "metadata": {},
     "output_type": "execute_result"
    }
   ],
   "source": [
    "feat_seq = feature_selection(df, target)\n",
    "feat_seq"
   ]
  },
  {
   "cell_type": "code",
   "execution_count": 98,
   "metadata": {},
   "outputs": [],
   "source": [
    "ord_data = df.copy()[feat_seq]\n",
    "ord_data['Life expectancy '] = target\n",
    "ord_data.to_csv(\"data/curated_data.csv\", index=False)"
   ]
  },
  {
   "cell_type": "code",
   "execution_count": 99,
   "metadata": {},
   "outputs": [
    {
     "data": {
      "text/html": [
       "<div>\n",
       "<style scoped>\n",
       "    .dataframe tbody tr th:only-of-type {\n",
       "        vertical-align: middle;\n",
       "    }\n",
       "\n",
       "    .dataframe tbody tr th {\n",
       "        vertical-align: top;\n",
       "    }\n",
       "\n",
       "    .dataframe thead th {\n",
       "        text-align: right;\n",
       "    }\n",
       "</style>\n",
       "<table border=\"1\" class=\"dataframe\">\n",
       "  <thead>\n",
       "    <tr style=\"text-align: right;\">\n",
       "      <th></th>\n",
       "      <th>Year</th>\n",
       "      <th>infant deaths</th>\n",
       "      <th>Measles</th>\n",
       "      <th>Schooling</th>\n",
       "      <th>Income composition of resources</th>\n",
       "      <th>thinness 5-9 years</th>\n",
       "      <th>thinness  1-19 years</th>\n",
       "      <th>Population</th>\n",
       "      <th>GDP</th>\n",
       "      <th>HIV/AIDS</th>\n",
       "      <th>Diphtheria</th>\n",
       "      <th>Total expenditure</th>\n",
       "      <th>Polio</th>\n",
       "      <th>under-five deaths</th>\n",
       "      <th>BMI</th>\n",
       "      <th>Hepatitis B</th>\n",
       "      <th>percentage expenditure</th>\n",
       "      <th>Alcohol</th>\n",
       "      <th>Adult Mortality</th>\n",
       "      <th>Life expectancy</th>\n",
       "    </tr>\n",
       "  </thead>\n",
       "  <tbody>\n",
       "    <tr>\n",
       "      <th>0</th>\n",
       "      <td>2015</td>\n",
       "      <td>62</td>\n",
       "      <td>1154</td>\n",
       "      <td>10.1</td>\n",
       "      <td>0.479</td>\n",
       "      <td>17.3</td>\n",
       "      <td>17.2</td>\n",
       "      <td>33736494.0</td>\n",
       "      <td>584.259210</td>\n",
       "      <td>0.1</td>\n",
       "      <td>65.0</td>\n",
       "      <td>8.16</td>\n",
       "      <td>6.0</td>\n",
       "      <td>83</td>\n",
       "      <td>19.1</td>\n",
       "      <td>65.0</td>\n",
       "      <td>71.279624</td>\n",
       "      <td>0.01</td>\n",
       "      <td>263.0</td>\n",
       "      <td>65.0</td>\n",
       "    </tr>\n",
       "    <tr>\n",
       "      <th>1</th>\n",
       "      <td>2014</td>\n",
       "      <td>64</td>\n",
       "      <td>492</td>\n",
       "      <td>10.0</td>\n",
       "      <td>0.476</td>\n",
       "      <td>17.5</td>\n",
       "      <td>17.5</td>\n",
       "      <td>327582.0</td>\n",
       "      <td>612.696514</td>\n",
       "      <td>0.1</td>\n",
       "      <td>62.0</td>\n",
       "      <td>8.18</td>\n",
       "      <td>58.0</td>\n",
       "      <td>86</td>\n",
       "      <td>18.6</td>\n",
       "      <td>62.0</td>\n",
       "      <td>73.523582</td>\n",
       "      <td>0.01</td>\n",
       "      <td>271.0</td>\n",
       "      <td>59.9</td>\n",
       "    </tr>\n",
       "    <tr>\n",
       "      <th>2</th>\n",
       "      <td>2013</td>\n",
       "      <td>66</td>\n",
       "      <td>430</td>\n",
       "      <td>9.9</td>\n",
       "      <td>0.470</td>\n",
       "      <td>17.7</td>\n",
       "      <td>17.7</td>\n",
       "      <td>31731688.0</td>\n",
       "      <td>631.744976</td>\n",
       "      <td>0.1</td>\n",
       "      <td>64.0</td>\n",
       "      <td>8.13</td>\n",
       "      <td>62.0</td>\n",
       "      <td>89</td>\n",
       "      <td>18.1</td>\n",
       "      <td>64.0</td>\n",
       "      <td>73.219243</td>\n",
       "      <td>0.01</td>\n",
       "      <td>268.0</td>\n",
       "      <td>59.9</td>\n",
       "    </tr>\n",
       "    <tr>\n",
       "      <th>3</th>\n",
       "      <td>2012</td>\n",
       "      <td>69</td>\n",
       "      <td>2787</td>\n",
       "      <td>9.8</td>\n",
       "      <td>0.463</td>\n",
       "      <td>18.0</td>\n",
       "      <td>17.9</td>\n",
       "      <td>3696958.0</td>\n",
       "      <td>669.959000</td>\n",
       "      <td>0.1</td>\n",
       "      <td>67.0</td>\n",
       "      <td>8.52</td>\n",
       "      <td>67.0</td>\n",
       "      <td>93</td>\n",
       "      <td>17.6</td>\n",
       "      <td>67.0</td>\n",
       "      <td>78.184215</td>\n",
       "      <td>0.01</td>\n",
       "      <td>272.0</td>\n",
       "      <td>59.5</td>\n",
       "    </tr>\n",
       "    <tr>\n",
       "      <th>4</th>\n",
       "      <td>2011</td>\n",
       "      <td>71</td>\n",
       "      <td>3013</td>\n",
       "      <td>9.5</td>\n",
       "      <td>0.454</td>\n",
       "      <td>18.2</td>\n",
       "      <td>18.2</td>\n",
       "      <td>2978599.0</td>\n",
       "      <td>63.537231</td>\n",
       "      <td>0.1</td>\n",
       "      <td>68.0</td>\n",
       "      <td>7.87</td>\n",
       "      <td>68.0</td>\n",
       "      <td>97</td>\n",
       "      <td>17.2</td>\n",
       "      <td>68.0</td>\n",
       "      <td>7.097109</td>\n",
       "      <td>0.01</td>\n",
       "      <td>275.0</td>\n",
       "      <td>59.2</td>\n",
       "    </tr>\n",
       "  </tbody>\n",
       "</table>\n",
       "</div>"
      ],
      "text/plain": [
       "   Year  infant deaths  Measles   Schooling  Income composition of resources  \\\n",
       "0  2015             62      1154       10.1                            0.479   \n",
       "1  2014             64       492       10.0                            0.476   \n",
       "2  2013             66       430        9.9                            0.470   \n",
       "3  2012             69      2787        9.8                            0.463   \n",
       "4  2011             71      3013        9.5                            0.454   \n",
       "\n",
       "    thinness 5-9 years   thinness  1-19 years  Population         GDP  \\\n",
       "0                 17.3                   17.2  33736494.0  584.259210   \n",
       "1                 17.5                   17.5    327582.0  612.696514   \n",
       "2                 17.7                   17.7  31731688.0  631.744976   \n",
       "3                 18.0                   17.9   3696958.0  669.959000   \n",
       "4                 18.2                   18.2   2978599.0   63.537231   \n",
       "\n",
       "    HIV/AIDS  Diphtheria   Total expenditure  Polio  under-five deaths   \\\n",
       "0        0.1         65.0               8.16    6.0                  83   \n",
       "1        0.1         62.0               8.18   58.0                  86   \n",
       "2        0.1         64.0               8.13   62.0                  89   \n",
       "3        0.1         67.0               8.52   67.0                  93   \n",
       "4        0.1         68.0               7.87   68.0                  97   \n",
       "\n",
       "    BMI   Hepatitis B  percentage expenditure  Alcohol  Adult Mortality  \\\n",
       "0   19.1         65.0               71.279624     0.01            263.0   \n",
       "1   18.6         62.0               73.523582     0.01            271.0   \n",
       "2   18.1         64.0               73.219243     0.01            268.0   \n",
       "3   17.6         67.0               78.184215     0.01            272.0   \n",
       "4   17.2         68.0                7.097109     0.01            275.0   \n",
       "\n",
       "   Life expectancy   \n",
       "0              65.0  \n",
       "1              59.9  \n",
       "2              59.9  \n",
       "3              59.5  \n",
       "4              59.2  "
      ]
     },
     "execution_count": 99,
     "metadata": {},
     "output_type": "execute_result"
    }
   ],
   "source": [
    "n = pd.read_csv(\"data/curated_data.csv\")\n",
    "n.head(5)"
   ]
  },
  {
   "cell_type": "code",
   "execution_count": null,
   "metadata": {},
   "outputs": [],
   "source": []
  }
 ],
 "metadata": {
  "kernelspec": {
   "display_name": "Python 3",
   "language": "python",
   "name": "python3"
  },
  "language_info": {
   "codemirror_mode": {
    "name": "ipython",
    "version": 3
   },
   "file_extension": ".py",
   "mimetype": "text/x-python",
   "name": "python",
   "nbconvert_exporter": "python",
   "pygments_lexer": "ipython3",
   "version": "3.8.3"
  }
 },
 "nbformat": 4,
 "nbformat_minor": 4
}
