{
 "cells": [
  {
   "cell_type": "markdown",
   "metadata": {},
   "source": [
    "# Regressão Linear"
   ]
  },
  {
   "cell_type": "markdown",
   "metadata": {},
   "source": [
    "Esta apresentação foi baseada em:\n",
    "<TT>https://bids.github.io/2015-06-04-berkeley/intermediate-python/03-sklearn-abalone.html</TT>"
   ]
  },
  {
   "cell_type": "markdown",
   "metadata": {},
   "source": [
    "Primeiro, os devidos $\\texttt{import}$s:"
   ]
  },
  {
   "cell_type": "code",
   "execution_count": 1,
   "metadata": {},
   "outputs": [],
   "source": [
    "%matplotlib inline\n",
    "import pandas as pd\n",
    "import numpy as np\n",
    "#from sklearn import datasets\n",
    "from sklearn import linear_model\n",
    "import matplotlib.pyplot as plt\n",
    "#from mpl_toolkits.mplot3d import Axes3D"
   ]
  },
  {
   "cell_type": "markdown",
   "metadata": {},
   "source": [
    "Precisaremos de algumas funções para facilitar<br>\n",
    "algumas manipulações entediantes..."
   ]
  },
  {
   "cell_type": "code",
   "execution_count": 2,
   "metadata": {},
   "outputs": [],
   "source": [
    "# acrescenta uma coluna de 1s no final de uma matriz\n",
    "def add_ones_column(M):\n",
    "    return np.column_stack((M, np.ones(np.shape(M)[0])))\n",
    "\n",
    "# constroi e resolve a equação normal A^T A x = A^T b\n",
    "def solve_normal_eqn(M,v):\n",
    "    return np.linalg.solve(np.matmul(np.transpose(M),M),\\\n",
    "                          np.matmul(np.transpose(M), v))\n",
    "\n",
    "# constroi os gráficos dos resultados, comparando a\n",
    "# saída real com a saída estimada. Calcula, ainda, o erro\n",
    "def scatter_results(true_y, predicted_y):\n",
    "    #Scatter-plot the predicted vs real\n",
    "    #Plots:\n",
    "    #   * real(x) vs predicted(y)\n",
    "    #   * perfect agreement line\n",
    "    #Returns the root mean square of the error\n",
    "\n",
    "    fig, ax = plt.subplots(figsize=(8, 8))\n",
    "    ax.plot(true_y, predicted_y, '.b')\n",
    "    \n",
    "    min_limit = min(np.amin(true_y),np.amin(predicted_y))\n",
    "    max_limit = max(np.amax(true_y),np.amax(predicted_y))\n",
    "    ax.plot([min_limit, max_limit], [min_limit, max_limit], '--k')\n",
    "    \n",
    "    \n",
    "    #rms = (true_y - predicted_y).std()\n",
    "    rmse = np.sqrt(np.mean((true_y - predicted_y)**2))\n",
    "    \n",
    "    ax.text(0.99*max_limit, 1.01*min_limit,'Root Mean Square Error = %.2f' % rmse,\n",
    "            ha='right', va='bottom')\n",
    "\n",
    "    ax.set_xlim(min_limit, max_limit)\n",
    "    ax.set_ylim(min_limit, max_limit)\n",
    "    \n",
    "    ax.set_xlabel('Valores reais')\n",
    "    ax.set_ylabel('Valores estimados')\n",
    "    \n",
    "    return rmse"
   ]
  },
  {
   "cell_type": "markdown",
   "metadata": {},
   "source": [
    "Primeiro, iremos trabalhar com o banco de dados Power Plant."
   ]
  },
  {
   "cell_type": "code",
   "execution_count": 3,
   "metadata": {},
   "outputs": [
    {
     "ename": "FileNotFoundError",
     "evalue": "[Errno 2] File datasets/power_plant/power_plant.csv does not exist: 'datasets/power_plant/power_plant.csv'",
     "output_type": "error",
     "traceback": [
      "\u001b[0;31m---------------------------------------------------------------------------\u001b[0m",
      "\u001b[0;31mFileNotFoundError\u001b[0m                         Traceback (most recent call last)",
      "\u001b[0;32m<ipython-input-3-6ed3a5f8f8f1>\u001b[0m in \u001b[0;36m<module>\u001b[0;34m\u001b[0m\n\u001b[1;32m      1\u001b[0m \u001b[0mcolumn_names\u001b[0m \u001b[0;34m=\u001b[0m \u001b[0;34m[\u001b[0m\u001b[0;34m\"temperature\"\u001b[0m\u001b[0;34m,\u001b[0m \u001b[0;34m\" pressure\"\u001b[0m\u001b[0;34m,\u001b[0m \u001b[0;34m\"humidity\"\u001b[0m\u001b[0;34m,\u001b[0m \u001b[0;34m\"vacuum\"\u001b[0m\u001b[0;34m,\u001b[0m \u001b[0;34m\"energy\"\u001b[0m\u001b[0;34m]\u001b[0m\u001b[0;34m\u001b[0m\u001b[0;34m\u001b[0m\u001b[0m\n\u001b[1;32m      2\u001b[0m \u001b[0;34m\u001b[0m\u001b[0m\n\u001b[0;32m----> 3\u001b[0;31m \u001b[0mdata\u001b[0m \u001b[0;34m=\u001b[0m \u001b[0mpd\u001b[0m\u001b[0;34m.\u001b[0m\u001b[0mread_csv\u001b[0m\u001b[0;34m(\u001b[0m\u001b[0;34m\"datasets/power_plant/power_plant.csv\"\u001b[0m\u001b[0;34m,\u001b[0m \u001b[0mnames\u001b[0m\u001b[0;34m=\u001b[0m\u001b[0mcolumn_names\u001b[0m\u001b[0;34m,\u001b[0m \u001b[0mskiprows\u001b[0m\u001b[0;34m=\u001b[0m\u001b[0;36m1\u001b[0m\u001b[0;34m)\u001b[0m\u001b[0;34m\u001b[0m\u001b[0;34m\u001b[0m\u001b[0m\n\u001b[0m\u001b[1;32m      4\u001b[0m \u001b[0;34m\u001b[0m\u001b[0m\n\u001b[1;32m      5\u001b[0m \u001b[0mprint\u001b[0m\u001b[0;34m(\u001b[0m\u001b[0;34m\"Number of samples: %d\"\u001b[0m \u001b[0;34m%\u001b[0m \u001b[0mlen\u001b[0m\u001b[0;34m(\u001b[0m\u001b[0mdata\u001b[0m\u001b[0;34m)\u001b[0m\u001b[0;34m)\u001b[0m\u001b[0;34m\u001b[0m\u001b[0;34m\u001b[0m\u001b[0m\n",
      "\u001b[0;32m/usr/local/lib/python3.8/site-packages/pandas/io/parsers.py\u001b[0m in \u001b[0;36mparser_f\u001b[0;34m(filepath_or_buffer, sep, delimiter, header, names, index_col, usecols, squeeze, prefix, mangle_dupe_cols, dtype, engine, converters, true_values, false_values, skipinitialspace, skiprows, skipfooter, nrows, na_values, keep_default_na, na_filter, verbose, skip_blank_lines, parse_dates, infer_datetime_format, keep_date_col, date_parser, dayfirst, cache_dates, iterator, chunksize, compression, thousands, decimal, lineterminator, quotechar, quoting, doublequote, escapechar, comment, encoding, dialect, error_bad_lines, warn_bad_lines, delim_whitespace, low_memory, memory_map, float_precision)\u001b[0m\n\u001b[1;32m    674\u001b[0m         )\n\u001b[1;32m    675\u001b[0m \u001b[0;34m\u001b[0m\u001b[0m\n\u001b[0;32m--> 676\u001b[0;31m         \u001b[0;32mreturn\u001b[0m \u001b[0m_read\u001b[0m\u001b[0;34m(\u001b[0m\u001b[0mfilepath_or_buffer\u001b[0m\u001b[0;34m,\u001b[0m \u001b[0mkwds\u001b[0m\u001b[0;34m)\u001b[0m\u001b[0;34m\u001b[0m\u001b[0;34m\u001b[0m\u001b[0m\n\u001b[0m\u001b[1;32m    677\u001b[0m \u001b[0;34m\u001b[0m\u001b[0m\n\u001b[1;32m    678\u001b[0m     \u001b[0mparser_f\u001b[0m\u001b[0;34m.\u001b[0m\u001b[0m__name__\u001b[0m \u001b[0;34m=\u001b[0m \u001b[0mname\u001b[0m\u001b[0;34m\u001b[0m\u001b[0;34m\u001b[0m\u001b[0m\n",
      "\u001b[0;32m/usr/local/lib/python3.8/site-packages/pandas/io/parsers.py\u001b[0m in \u001b[0;36m_read\u001b[0;34m(filepath_or_buffer, kwds)\u001b[0m\n\u001b[1;32m    446\u001b[0m \u001b[0;34m\u001b[0m\u001b[0m\n\u001b[1;32m    447\u001b[0m     \u001b[0;31m# Create the parser.\u001b[0m\u001b[0;34m\u001b[0m\u001b[0;34m\u001b[0m\u001b[0;34m\u001b[0m\u001b[0m\n\u001b[0;32m--> 448\u001b[0;31m     \u001b[0mparser\u001b[0m \u001b[0;34m=\u001b[0m \u001b[0mTextFileReader\u001b[0m\u001b[0;34m(\u001b[0m\u001b[0mfp_or_buf\u001b[0m\u001b[0;34m,\u001b[0m \u001b[0;34m**\u001b[0m\u001b[0mkwds\u001b[0m\u001b[0;34m)\u001b[0m\u001b[0;34m\u001b[0m\u001b[0;34m\u001b[0m\u001b[0m\n\u001b[0m\u001b[1;32m    449\u001b[0m \u001b[0;34m\u001b[0m\u001b[0m\n\u001b[1;32m    450\u001b[0m     \u001b[0;32mif\u001b[0m \u001b[0mchunksize\u001b[0m \u001b[0;32mor\u001b[0m \u001b[0miterator\u001b[0m\u001b[0;34m:\u001b[0m\u001b[0;34m\u001b[0m\u001b[0;34m\u001b[0m\u001b[0m\n",
      "\u001b[0;32m/usr/local/lib/python3.8/site-packages/pandas/io/parsers.py\u001b[0m in \u001b[0;36m__init__\u001b[0;34m(self, f, engine, **kwds)\u001b[0m\n\u001b[1;32m    878\u001b[0m             \u001b[0mself\u001b[0m\u001b[0;34m.\u001b[0m\u001b[0moptions\u001b[0m\u001b[0;34m[\u001b[0m\u001b[0;34m\"has_index_names\"\u001b[0m\u001b[0;34m]\u001b[0m \u001b[0;34m=\u001b[0m \u001b[0mkwds\u001b[0m\u001b[0;34m[\u001b[0m\u001b[0;34m\"has_index_names\"\u001b[0m\u001b[0;34m]\u001b[0m\u001b[0;34m\u001b[0m\u001b[0;34m\u001b[0m\u001b[0m\n\u001b[1;32m    879\u001b[0m \u001b[0;34m\u001b[0m\u001b[0m\n\u001b[0;32m--> 880\u001b[0;31m         \u001b[0mself\u001b[0m\u001b[0;34m.\u001b[0m\u001b[0m_make_engine\u001b[0m\u001b[0;34m(\u001b[0m\u001b[0mself\u001b[0m\u001b[0;34m.\u001b[0m\u001b[0mengine\u001b[0m\u001b[0;34m)\u001b[0m\u001b[0;34m\u001b[0m\u001b[0;34m\u001b[0m\u001b[0m\n\u001b[0m\u001b[1;32m    881\u001b[0m \u001b[0;34m\u001b[0m\u001b[0m\n\u001b[1;32m    882\u001b[0m     \u001b[0;32mdef\u001b[0m \u001b[0mclose\u001b[0m\u001b[0;34m(\u001b[0m\u001b[0mself\u001b[0m\u001b[0;34m)\u001b[0m\u001b[0;34m:\u001b[0m\u001b[0;34m\u001b[0m\u001b[0;34m\u001b[0m\u001b[0m\n",
      "\u001b[0;32m/usr/local/lib/python3.8/site-packages/pandas/io/parsers.py\u001b[0m in \u001b[0;36m_make_engine\u001b[0;34m(self, engine)\u001b[0m\n\u001b[1;32m   1112\u001b[0m     \u001b[0;32mdef\u001b[0m \u001b[0m_make_engine\u001b[0m\u001b[0;34m(\u001b[0m\u001b[0mself\u001b[0m\u001b[0;34m,\u001b[0m \u001b[0mengine\u001b[0m\u001b[0;34m=\u001b[0m\u001b[0;34m\"c\"\u001b[0m\u001b[0;34m)\u001b[0m\u001b[0;34m:\u001b[0m\u001b[0;34m\u001b[0m\u001b[0;34m\u001b[0m\u001b[0m\n\u001b[1;32m   1113\u001b[0m         \u001b[0;32mif\u001b[0m \u001b[0mengine\u001b[0m \u001b[0;34m==\u001b[0m \u001b[0;34m\"c\"\u001b[0m\u001b[0;34m:\u001b[0m\u001b[0;34m\u001b[0m\u001b[0;34m\u001b[0m\u001b[0m\n\u001b[0;32m-> 1114\u001b[0;31m             \u001b[0mself\u001b[0m\u001b[0;34m.\u001b[0m\u001b[0m_engine\u001b[0m \u001b[0;34m=\u001b[0m \u001b[0mCParserWrapper\u001b[0m\u001b[0;34m(\u001b[0m\u001b[0mself\u001b[0m\u001b[0;34m.\u001b[0m\u001b[0mf\u001b[0m\u001b[0;34m,\u001b[0m \u001b[0;34m**\u001b[0m\u001b[0mself\u001b[0m\u001b[0;34m.\u001b[0m\u001b[0moptions\u001b[0m\u001b[0;34m)\u001b[0m\u001b[0;34m\u001b[0m\u001b[0;34m\u001b[0m\u001b[0m\n\u001b[0m\u001b[1;32m   1115\u001b[0m         \u001b[0;32melse\u001b[0m\u001b[0;34m:\u001b[0m\u001b[0;34m\u001b[0m\u001b[0;34m\u001b[0m\u001b[0m\n\u001b[1;32m   1116\u001b[0m             \u001b[0;32mif\u001b[0m \u001b[0mengine\u001b[0m \u001b[0;34m==\u001b[0m \u001b[0;34m\"python\"\u001b[0m\u001b[0;34m:\u001b[0m\u001b[0;34m\u001b[0m\u001b[0;34m\u001b[0m\u001b[0m\n",
      "\u001b[0;32m/usr/local/lib/python3.8/site-packages/pandas/io/parsers.py\u001b[0m in \u001b[0;36m__init__\u001b[0;34m(self, src, **kwds)\u001b[0m\n\u001b[1;32m   1889\u001b[0m         \u001b[0mkwds\u001b[0m\u001b[0;34m[\u001b[0m\u001b[0;34m\"usecols\"\u001b[0m\u001b[0;34m]\u001b[0m \u001b[0;34m=\u001b[0m \u001b[0mself\u001b[0m\u001b[0;34m.\u001b[0m\u001b[0musecols\u001b[0m\u001b[0;34m\u001b[0m\u001b[0;34m\u001b[0m\u001b[0m\n\u001b[1;32m   1890\u001b[0m \u001b[0;34m\u001b[0m\u001b[0m\n\u001b[0;32m-> 1891\u001b[0;31m         \u001b[0mself\u001b[0m\u001b[0;34m.\u001b[0m\u001b[0m_reader\u001b[0m \u001b[0;34m=\u001b[0m \u001b[0mparsers\u001b[0m\u001b[0;34m.\u001b[0m\u001b[0mTextReader\u001b[0m\u001b[0;34m(\u001b[0m\u001b[0msrc\u001b[0m\u001b[0;34m,\u001b[0m \u001b[0;34m**\u001b[0m\u001b[0mkwds\u001b[0m\u001b[0;34m)\u001b[0m\u001b[0;34m\u001b[0m\u001b[0;34m\u001b[0m\u001b[0m\n\u001b[0m\u001b[1;32m   1892\u001b[0m         \u001b[0mself\u001b[0m\u001b[0;34m.\u001b[0m\u001b[0munnamed_cols\u001b[0m \u001b[0;34m=\u001b[0m \u001b[0mself\u001b[0m\u001b[0;34m.\u001b[0m\u001b[0m_reader\u001b[0m\u001b[0;34m.\u001b[0m\u001b[0munnamed_cols\u001b[0m\u001b[0;34m\u001b[0m\u001b[0;34m\u001b[0m\u001b[0m\n\u001b[1;32m   1893\u001b[0m \u001b[0;34m\u001b[0m\u001b[0m\n",
      "\u001b[0;32mpandas/_libs/parsers.pyx\u001b[0m in \u001b[0;36mpandas._libs.parsers.TextReader.__cinit__\u001b[0;34m()\u001b[0m\n",
      "\u001b[0;32mpandas/_libs/parsers.pyx\u001b[0m in \u001b[0;36mpandas._libs.parsers.TextReader._setup_parser_source\u001b[0;34m()\u001b[0m\n",
      "\u001b[0;31mFileNotFoundError\u001b[0m: [Errno 2] File datasets/power_plant/power_plant.csv does not exist: 'datasets/power_plant/power_plant.csv'"
     ]
    }
   ],
   "source": [
    "column_names = [\"temperature\", \" pressure\", \"humidity\", \"vacuum\", \"energy\"]\n",
    "\n",
    "data = pd.read_csv(\"datasets/power_plant/power_plant.csv\", names=column_names, skiprows=1)\n",
    "\n",
    "print(\"Number of samples: %d\" % len(data))\n",
    "print(data.head())\n",
    "\n",
    "y = data.energy.values\n",
    "\n",
    "del data[\"energy\"] # remove output variable from data, so we can convert all the dataframe to a numpy 2D array\n",
    "\n",
    "X = data.values.astype(np.float)"
   ]
  },
  {
   "cell_type": "markdown",
   "metadata": {},
   "source": [
    "O segundo banco de dados é o Abalone.<br>\n",
    "Os resultados são piores que o anterior, mas aceitáveis."
   ]
  },
  {
   "cell_type": "code",
   "execution_count": null,
   "metadata": {},
   "outputs": [],
   "source": [
    "'''\n",
    "column_names = [\"sex\", \"length\", \"diameter\", \"height\", \"whole weight\", \n",
    "                \"shucked weight\", \"viscera weight\", \"shell weight\", \"rings\"]\n",
    "\n",
    "data = pd.read_csv(\"abalone.data\", names=column_names)\n",
    "\n",
    "print(\"Number of samples: %d\" % len(data))\n",
    "print(data.head())\n",
    "\n",
    "y = data.rings.values\n",
    "\n",
    "del data[\"sex\"] # removendo a primeira característica\n",
    "del data[\"rings\"] # remove rings from data, so we can convert all the dataframe to a numpy 2D array\n",
    "\n",
    "X = data.values.astype(np.float)\n",
    "'''"
   ]
  },
  {
   "cell_type": "markdown",
   "metadata": {},
   "source": [
    "Vamos dividir os dados em conjuntos de treinamento e teste:<br>\n",
    "60% para treinamento e 40% para teste."
   ]
  },
  {
   "cell_type": "code",
   "execution_count": null,
   "metadata": {},
   "outputs": [],
   "source": [
    "from sklearn.model_selection import train_test_split\n",
    "X_train, X_test, y_train, y_test = train_test_split(X, y, test_size=0.40, random_state=0)"
   ]
  },
  {
   "cell_type": "markdown",
   "metadata": {},
   "source": [
    "Utilizaremos a decomposição QR:"
   ]
  },
  {
   "cell_type": "code",
   "execution_count": null,
   "metadata": {},
   "outputs": [],
   "source": [
    "# sem o coeficiente linear (somente para comparar com a regressão do sklearn)\n",
    "#Q, R = np.linalg.qr(X_train)\n",
    "# com o coeficiente linear\n",
    "Q, R = np.linalg.qr(add_ones_column(X_train))\n",
    "\n",
    "coef_regression = np.linalg.solve(R, np.matmul(np.transpose(Q), y_train))\n",
    "\n",
    "print('Coeficientes da regressão:\\n', coef_regression)\n",
    "\n",
    "# com o coeficiente linear\n",
    "predicted_y_test = np.matmul(add_ones_column(X_test), coef_regression)\n",
    "predicted_y_train = np.matmul(add_ones_column(X_train), coef_regression)"
   ]
  },
  {
   "cell_type": "markdown",
   "metadata": {},
   "source": [
    "Poderíamos ter usado a regressão linear da biblioteca sklearn,<br>\n",
    "mas os resultados seriam os mesmos."
   ]
  },
  {
   "cell_type": "code",
   "execution_count": null,
   "metadata": {},
   "outputs": [],
   "source": [
    "'''\n",
    "# linear_model.LinearRegression(fit_intercept=True, normalize=False, copy_X=True, n_jobs=None)\n",
    "# se o coeficiente linear for necessário, troque False por True\n",
    "lmreg = linear_model.LinearRegression(fit_intercept = False)\n",
    "\n",
    "lmreg.fit(X_train, y_train)\n",
    "\n",
    "print('Coeficientes da regressão:\\n', lmreg.coef_)\n",
    "\n",
    "predicted_y_test = lmreg.predict(X_test)\n",
    "predicted_y_train = lmreg.predict(X_train)\n",
    "'''"
   ]
  },
  {
   "cell_type": "markdown",
   "metadata": {},
   "source": [
    "Podemos visualizar os resultados da previsão usando:"
   ]
  },
  {
   "cell_type": "code",
   "execution_count": null,
   "metadata": {
    "scrolled": false
   },
   "outputs": [],
   "source": [
    "scatter_results(y_train, predicted_y_train)\n",
    "plt.title('Conjunto de Treinamento')\n",
    "\n",
    "scatter_results(y_test, predicted_y_test)\n",
    "plt.title('Conjunto de Teste')"
   ]
  },
  {
   "cell_type": "markdown",
   "metadata": {},
   "source": [
    "## Banco de dados Yacht Hydrodynamics"
   ]
  },
  {
   "cell_type": "markdown",
   "metadata": {},
   "source": [
    "O terceiro banco de dados a ser analisado é o Yacht Hydrodynamics."
   ]
  },
  {
   "cell_type": "code",
   "execution_count": null,
   "metadata": {},
   "outputs": [],
   "source": [
    "column_names = [\"center of buoyancy\", \" prismatic coefficient\", \"length/displacement\", \"beam/draught\", \"length/beam\", \n",
    "                \"Froude number\", \"resistance\"]\n",
    "\n",
    "data = pd.read_csv(\"datasets/yacht-hydrodynamics/yacht_hydrodynamics.csv\", names=column_names)\n",
    "\n",
    "print(\"Number of samples: %d\" % len(data))\n",
    "print(data.head())\n",
    "\n",
    "y = data.resistance.values\n",
    "\n",
    "del data[\"resistance\"] # remove resuistance from data, so we can convert all the dataframe to a numpy 2D array\n",
    "\n",
    "X = data.values.astype(np.float)"
   ]
  },
  {
   "cell_type": "markdown",
   "metadata": {},
   "source": [
    "E executar os passos anteriores."
   ]
  },
  {
   "cell_type": "code",
   "execution_count": null,
   "metadata": {},
   "outputs": [],
   "source": [
    "from sklearn.model_selection import train_test_split\n",
    "X_train, X_test, y_train, y_test = train_test_split(X, y, test_size=0.40, random_state=0)\n",
    "\n",
    "# sem o coeficiente linear (somente para comparar com a regressão do sklearn)\n",
    "#Q, R = np.linalg.qr(X_train)\n",
    "# com o coeficiente linear\n",
    "Q, R = np.linalg.qr(add_ones_column(X_train))\n",
    "\n",
    "coef_regression = np.linalg.solve(R, np.matmul(np.transpose(Q), y_train))\n",
    "\n",
    "print('Coeficientes da regressão:\\n', coef_regression)\n",
    "\n",
    "# com o coeficiente linear\n",
    "predicted_y_test = np.matmul(add_ones_column(X_test), coef_regression)\n",
    "predicted_y_train = np.matmul(add_ones_column(X_train), coef_regression)\n",
    "\n",
    "scatter_results(y_train, predicted_y_train)\n",
    "plt.title('Conjunto de Treinamento')\n",
    "\n",
    "scatter_results(y_test, predicted_y_test)\n",
    "plt.title('Conjunto de Teste')"
   ]
  },
  {
   "cell_type": "markdown",
   "metadata": {},
   "source": [
    "Neste caso (Yacht Hydrodynamics),<br>\n",
    "o modelo não parece ser linear (ou afim).<br>\n",
    "Vamos tentar um modelo quadrático."
   ]
  },
  {
   "cell_type": "code",
   "execution_count": null,
   "metadata": {},
   "outputs": [],
   "source": [
    "aux_train = add_ones_column(np.column_stack((np.square(X_train),X_train)))\n",
    "aux_test = add_ones_column(np.column_stack((np.square(X_test),X_test)))\n",
    "\n",
    "Q, R = np.linalg.qr(aux_train)\n",
    "\n",
    "coef_regression = np.linalg.solve(R, np.matmul(np.transpose(Q), y_train))\n",
    "\n",
    "print('Coeficientes da regressão:\\n', coef_regression)\n",
    "\n",
    "# com o coeficiente linear\n",
    "predicted_y_train = np.matmul(aux_train, coef_regression)\n",
    "predicted_y_test = np.matmul(aux_test, coef_regression)\n",
    "\n",
    "scatter_results(y_train, predicted_y_train)\n",
    "plt.title('Conjunto de Treinamento')\n",
    "scatter_results(y_test, predicted_y_test)\n",
    "plt.title('Conjunto de Teste')"
   ]
  },
  {
   "cell_type": "markdown",
   "metadata": {},
   "source": [
    "Ainda ruim...<br>\n",
    "Voltemos ao modelo linear e acrescentemos um passo:"
   ]
  },
  {
   "cell_type": "code",
   "execution_count": null,
   "metadata": {},
   "outputs": [],
   "source": [
    "Q, R = np.linalg.qr(add_ones_column(X_train))\n",
    "\n",
    "coef_regression = np.linalg.solve(R, np.matmul(np.transpose(Q), y_train))\n",
    "\n",
    "print('Coeficientes da regressão:\\n', coef_regression)\n",
    "\n",
    "# com o coeficiente linear\n",
    "predicted_y_test = np.matmul(add_ones_column(X_test), coef_regression)\n",
    "predicted_y_train = np.matmul(add_ones_column(X_train), coef_regression)\n",
    "\n",
    "scatter_results(y_train, predicted_y_train)\n",
    "plt.title('Conjunto de Treinamento')\n",
    "scatter_results(y_test, predicted_y_test)\n",
    "plt.title('Conjunto de Teste')"
   ]
  },
  {
   "cell_type": "markdown",
   "metadata": {},
   "source": [
    "Note como parece haver uma relação logarítmica entre o valor estimado e o valor real: \n",
    "\\begin{align}\n",
    " y_{est} = \\log(y_{real}) \\, .\n",
    "\\end{align}\n",
    "Que tal tentarmos algo como:\n",
    "\\begin{align}\n",
    " \\alpha_0 y_{est} + \\alpha_1 = \\log(y_{real}) \\, .\n",
    "\\end{align}\n",
    "Assim, a nova estimativa $y_{new}$ será dada por:\n",
    "\\begin{align}\n",
    " y_{new} = \\exp(\\alpha_0 y_{est} + \\alpha_1) \\, .\n",
    "\\end{align}\n",
    "Usaremos regressão linear para obter os valores de $\\alpha$.<br>"
   ]
  },
  {
   "cell_type": "code",
   "execution_count": null,
   "metadata": {},
   "outputs": [],
   "source": [
    "alpha = solve_normal_eqn(add_ones_column(predicted_y_train),\\\n",
    "                        np.log(y_train))\n",
    "print('alpha = ', alpha)\n",
    "predicted_z_train = np.exp(alpha[0] * predicted_y_train + alpha[1])\n",
    "predicted_z_test =  np.exp(alpha[0] * predicted_y_test  + alpha[1])\n",
    "\n",
    "scatter_results(y_train, predicted_z_train)\n",
    "plt.title('Conjunto de Treinamento')\n",
    "scatter_results(y_test, predicted_z_test)\n",
    "plt.title('Conjunto de Teste')"
   ]
  },
  {
   "cell_type": "markdown",
   "metadata": {},
   "source": [
    "Uma maravilha!<br>\n",
    "Note que conseguimos capturar a \"lei\" física que rege o processo,<br>\n",
    "principalmente com valores mais baixos de resistência.<br>\n",
    "Neste caso, a \"lei\" física que aproxima o valor da resistência é<br>\n",
    "o logaritmo de uma combinação afim das variáveis de entrada."
   ]
  }
 ],
 "metadata": {
  "kernelspec": {
   "display_name": "Python 3",
   "language": "python",
   "name": "python3"
  },
  "language_info": {
   "codemirror_mode": {
    "name": "ipython",
    "version": 3
   },
   "file_extension": ".py",
   "mimetype": "text/x-python",
   "name": "python",
   "nbconvert_exporter": "python",
   "pygments_lexer": "ipython3",
   "version": "3.8.3"
  }
 },
 "nbformat": 4,
 "nbformat_minor": 2
}
