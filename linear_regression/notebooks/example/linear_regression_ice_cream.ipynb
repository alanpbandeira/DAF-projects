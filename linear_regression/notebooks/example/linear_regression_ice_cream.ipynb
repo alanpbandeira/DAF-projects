{
 "cells": [
  {
   "cell_type": "markdown",
   "metadata": {},
   "source": [
    "# Regressão Linear"
   ]
  },
  {
   "cell_type": "markdown",
   "metadata": {},
   "source": [
    "Primeiro, os devidos $\\texttt{import}$s:"
   ]
  },
  {
   "cell_type": "code",
   "execution_count": 1,
   "metadata": {},
   "outputs": [],
   "source": [
    "%matplotlib inline\n",
    "import numpy as np\n",
    "import matplotlib.pyplot as plt"
   ]
  },
  {
   "cell_type": "markdown",
   "metadata": {},
   "source": [
    "Inicialmente, iremos trabalhar com o exemplo do sorvete."
   ]
  },
  {
   "cell_type": "code",
   "execution_count": 2,
   "metadata": {},
   "outputs": [
    {
     "name": "stdout",
     "output_type": "stream",
     "text": [
      "[[ 14.2 215. ]\n",
      " [ 16.4 325. ]\n",
      " [ 11.9 185. ]\n",
      " [ 15.2 332. ]\n",
      " [ 18.5 406. ]\n",
      " [ 22.1 522. ]\n",
      " [ 19.4 412. ]\n",
      " [ 25.1 614. ]\n",
      " [ 23.4 544. ]\n",
      " [ 18.1 421. ]\n",
      " [ 22.6 445. ]\n",
      " [ 17.2 408. ]]\n"
     ]
    }
   ],
   "source": [
    "X = np.array(\n",
    "[[14.2 , 215],\n",
    "[16.4 , 325],\n",
    "[11.9 , 185],\n",
    "[15.2 , 332],\n",
    "[18.5 , 406],\n",
    "[22.1 , 522],\n",
    "[19.4 , 412],\n",
    "[25.1 , 614],\n",
    "[23.4 , 544],\n",
    "[18.1 , 421],\n",
    "[22.6 , 445],\n",
    "[17.2 , 408]])\n",
    "\n",
    "print(X)"
   ]
  },
  {
   "cell_type": "markdown",
   "metadata": {},
   "source": [
    "Queremos encontrar os coeficientes da reta que melhor representa os dados $X$.<br>\n",
    "Ou seja, queremos calcular $\\tilde{\\bf{x}}$ tal que:\n",
    "\\begin{align}\n",
    " A \\tilde{\\bf{x}} = \\bf{b} \\, ,\n",
    "\\end{align}\n",
    "com:"
   ]
  },
  {
   "cell_type": "code",
   "execution_count": 3,
   "metadata": {},
   "outputs": [
    {
     "name": "stdout",
     "output_type": "stream",
     "text": [
      "A =\n",
      " [[14.2  1. ]\n",
      " [16.4  1. ]\n",
      " [11.9  1. ]\n",
      " [15.2  1. ]\n",
      " [18.5  1. ]\n",
      " [22.1  1. ]\n",
      " [19.4  1. ]\n",
      " [25.1  1. ]\n",
      " [23.4  1. ]\n",
      " [18.1  1. ]\n",
      " [22.6  1. ]\n",
      " [17.2  1. ]] \n",
      "b =\n",
      " [215. 325. 185. 332. 406. 522. 412. 614. 544. 421. 445. 408.]\n"
     ]
    }
   ],
   "source": [
    "A = np.ones_like(X)\n",
    "A[:,0] = X[:,0]\n",
    "b = X[:,1]\n",
    "\n",
    "print('A =\\n', A, '\\nb =\\n', b)"
   ]
  },
  {
   "cell_type": "markdown",
   "metadata": {},
   "source": [
    "A solução de mínimos quadrados é dada por:<br>\n",
    "\\begin{align}\n",
    " \\tilde{\\bf{x}} = (A^T A)^{-1} A^T \\bf{b} \\, .\n",
    "\\end{align}"
   ]
  },
  {
   "cell_type": "code",
   "execution_count": 4,
   "metadata": {},
   "outputs": [
    {
     "name": "stdout",
     "output_type": "stream",
     "text": [
      "ATA =\n",
      " [[4362.05  224.1 ]\n",
      " [ 224.1    12.  ]]\n",
      "ATA^-1 =\n",
      " [[ 0.00565028 -0.10551891]\n",
      " [-0.10551891  2.05389893]]\n",
      "pseudo inverse of A =\n",
      " [[-0.02528499 -0.01285438 -0.03828062 -0.01963471 -0.0009888   0.0193522\n",
      "   0.00409645  0.03630302  0.02669755 -0.00324891  0.02217733 -0.00833416]\n",
      " [ 0.55553044  0.32338885  0.79822393  0.45001154  0.10179914 -0.27806892\n",
      "   0.00683213 -0.59462565 -0.4152435   0.1440067  -0.33082838  0.23897372]]\n",
      "x =\n",
      " [  30.08786179 -159.47415234]\n"
     ]
    }
   ],
   "source": [
    "ATA = np.matmul(np.transpose(A),A)\n",
    "print('ATA =\\n', ATA)\n",
    "\n",
    "invATA = np.linalg.inv(ATA)\n",
    "print('ATA^-1 =\\n', invATA)\n",
    "\n",
    "pseudoA = np.matmul(invATA, np.transpose(A))\n",
    "print('pseudo inverse of A =\\n', pseudoA)\n",
    "\n",
    "x = np.matmul(pseudoA,b)\n",
    "print('x =\\n', x)"
   ]
  },
  {
   "cell_type": "markdown",
   "metadata": {},
   "source": [
    "Vejamos como fica o gráfico."
   ]
  },
  {
   "cell_type": "code",
   "execution_count": 5,
   "metadata": {},
   "outputs": [
    {
     "data": {
      "image/png": "[encoded data removed]",
      "text/plain": [
       "<Figure size 432x288 with 1 Axes>"
      ]
     },
     "metadata": {},
     "output_type": "display_data"
    }
   ],
   "source": [
    "plt.scatter(X[:,0],X[:,1], c='b')\n",
    "plt.plot(X[:,0],x[0]*X[:,0] + x[1], c='r')\n",
    "plt.grid()\n",
    "plt.xlabel('Temperatura ($^{\\circ}$C)')\n",
    "plt.ylabel('Lucro ($)')\n",
    "plt.show()"
   ]
  }
 ],
 "metadata": {
  "kernelspec": {
   "display_name": "Python 3",
   "language": "python",
   "name": "python3"
  },
  "language_info": {
   "codemirror_mode": {
    "name": "ipython",
    "version": 3
   },
   "file_extension": ".py",
   "mimetype": "text/x-python",
   "name": "python",
   "nbconvert_exporter": "python",
   "pygments_lexer": "ipython3",
   "version": "3.7.1"
  }
 },
 "nbformat": 4,
 "nbformat_minor": 2
}
