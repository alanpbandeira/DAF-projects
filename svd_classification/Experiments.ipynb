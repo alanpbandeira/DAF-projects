{
 "cells": [
  {
   "cell_type": "code",
   "execution_count": 22,
   "metadata": {},
   "outputs": [],
   "source": [
    "import os\n",
    "\n",
    "import cv2\n",
    "import imutils\n",
    "import random\n",
    "import numpy as np\n",
    "import matplotlib.pyplot as plt\n",
    "\n",
    "from numpy.linalg import eigh, svd\n",
    "from imutils import paths\n",
    "from sklearn.neighbors import KNeighborsClassifier\n",
    "from sklearn.model_selection import train_test_split"
   ]
  },
  {
   "cell_type": "code",
   "execution_count": 2,
   "metadata": {},
   "outputs": [],
   "source": [
    "def image_to_feature_vector(image, size=(32, 32)):\n",
    "    \"\"\"\n",
    "    Generates a feature vector (nx1_T),where n is\n",
    "    the product of the two elements in the size tuple\n",
    "    \n",
    "    \"\"\"\n",
    "    return cv2.resize(image, size).flatten()"
   ]
  },
  {
   "cell_type": "code",
   "execution_count": 3,
   "metadata": {},
   "outputs": [],
   "source": [
    "configs = {\n",
    "    \"dataset\": \"data/dogs-vs-cats\",\n",
    "    \"jobs\": -1,\n",
    "    \"neighbors\": 3\n",
    "}"
   ]
  },
  {
   "cell_type": "code",
   "execution_count": 15,
   "metadata": {},
   "outputs": [
    {
     "name": "stdout",
     "output_type": "stream",
     "text": [
      "[INFO] Importing dataset...\n",
      "[INFO] 25000 images imported\n"
     ]
    }
   ],
   "source": [
    "print(\"[INFO] Importing dataset...\")\n",
    "\n",
    "image_paths = list(paths.list_images(configs[\"dataset\"]))\n",
    "\n",
    "print(f\"[INFO] {len(image_paths)} images imported\")\n",
    "\n",
    "a = [10,12,13,14,15,16]\n",
    "\n",
    "working_set = random.choices(image_paths, k=2500)"
   ]
  },
  {
   "cell_type": "code",
   "execution_count": 16,
   "metadata": {},
   "outputs": [
    {
     "name": "stdout",
     "output_type": "stream",
     "text": [
      "[INFO] 1000 processed images\n",
      "[INFO] 2000 processed images\n",
      "[INFO] 25000 processed images\n"
     ]
    }
   ],
   "source": [
    "# Initializing feature matrix and labels\n",
    "features = []\n",
    "labels = []\n",
    "\n",
    "# Constructig dataset\n",
    "for idx, image_path in enumerate(working_set):\n",
    "    img = cv2.imread(image_path)\n",
    "    label = image_path.split(os.path.sep)[-1].split(\".\")[0]\n",
    "    \n",
    "    color_feats = image_to_feature_vector(img)\n",
    "    norm_feats = color_feats / 255\n",
    "    features.append(norm_feats)\n",
    "    labels.append(label)\n",
    "    \n",
    "    if idx > 0 and (idx % 1000 == 0):\n",
    "        print(f\"[INFO] {idx} processed images\")\n",
    "\n",
    "# print(f\"[INFO] 25000 processed images\")"
   ]
  },
  {
   "cell_type": "code",
   "execution_count": 17,
   "metadata": {},
   "outputs": [],
   "source": [
    "# Spliting the dataset\n",
    "X_train, X_test, y_train, y_test = train_test_split(\n",
    "    features, labels, test_size=0.25, random_state=42)\n",
    "\n",
    "train_mtx = np.array(X_train)"
   ]
  },
  {
   "cell_type": "code",
   "execution_count": 18,
   "metadata": {},
   "outputs": [
    {
     "name": "stdout",
     "output_type": "stream",
     "text": [
      "(1875, 1875)\n",
      "w = [ 7.89811612e+04  4.13473679e+04  2.77928111e+04 ... -1.40357120e-13\n",
      " -1.44710279e-13 -1.72766409e-13]\n"
     ]
    }
   ],
   "source": [
    "mean_vec = np.mean(train_mtx, axis=0)\n",
    "centralized_mtx = train_mtx - mean_vec\n",
    "# # Devemos calcular a decomposição espectral de A = Zt*Z, mas...\n",
    "# #A = np.dot(Z.transpose(), Z)\n",
    "# #print(A.shape)\n",
    "# #w, Q = eigh(A)\n",
    "# #print('w =', np.sort(w)[::-1])\n",
    "\n",
    "# # ... mas o tempo de processamento é proibitivo.\n",
    "# # Se quisermos ver os 319 primeiros autovalores de A \n",
    "# devemos calculcar a decomposição espectral de A = Z*Zt:\n",
    "A = np.dot(\n",
    "    centralized_mtx, centralized_mtx.transpose())\n",
    "\n",
    "print(A.shape)\n",
    "# start_time = timeit.default_timer()\n",
    "w, Q = eigh(A)\n",
    "# elapsed = timeit.default_timer() - start_time\n",
    "print('w =', np.sort(w)[::-1])\n",
    "# print('Tempo de processamento: {:6.2f} s'.format(elapsed))"
   ]
  },
  {
   "cell_type": "code",
   "execution_count": 20,
   "metadata": {},
   "outputs": [
    {
     "name": "stdout",
     "output_type": "stream",
     "text": [
      "U shape = (1875, 1875) s length = 1875 Vt shape = (1875, 3072)\n"
     ]
    }
   ],
   "source": [
    "# Calculating SVD\n",
    "U, s, Vt = svd(train_mtx, full_matrices=False)\n",
    "print('U shape =', np.shape(U), 's length =', len(s), 'Vt shape =', np.shape(Vt))"
   ]
  },
  {
   "cell_type": "code",
   "execution_count": null,
   "metadata": {},
   "outputs": [],
   "source": [
    "def coord_reduction(train, test, n_components):\n",
    "    \"\"\"\n",
    "    Calculate PC over train data and give the test data with n_components\n",
    "    \"\"\"\n",
    "    U, s, Vt = svd(train_mtx, full_matrices=False)\n",
    "    print('U shape =', np.shape(U), 's length =', len(s), 'Vt shape =', np.shape(Vt))\n",
    "    return U[:,0:r] * s[0:r], np.dot(Xtest, Vt[0:r,:].transpose())"
   ]
  },
  {
   "cell_type": "code",
   "execution_count": 23,
   "metadata": {},
   "outputs": [
    {
     "data": {
      "text/plain": [
       "Text(0, 0.5, 'Variabilidade Acumulada')"
      ]
     },
     "execution_count": 23,
     "metadata": {},
     "output_type": "execute_result"
    },
    {
     "data": {
      "image/png": "[encoded data removed]",
      "text/plain": [
       "<Figure size 432x288 with 1 Axes>"
      ]
     },
     "metadata": {
      "needs_background": "light"
     },
     "output_type": "display_data"
    }
   ],
   "source": [
    "total_var = np.sum(s**2)\n",
    "y_plot = np.cumsum(s**2) / total_var\n",
    "x_plot = np.array(range(len(s)))\n",
    "\n",
    "plt.plot(x_plot, y_plot)\n",
    "plt.xlabel('Número de Valores Singulares')\n",
    "plt.ylabel('Variabilidade Acumulada')"
   ]
  },
  {
   "cell_type": "code",
   "execution_count": null,
   "metadata": {},
   "outputs": [],
   "source": []
  }
 ],
 "metadata": {
  "kernelspec": {
   "display_name": "Python 3",
   "language": "python",
   "name": "python3"
  },
  "language_info": {
   "codemirror_mode": {
    "name": "ipython",
    "version": 3
   },
   "file_extension": ".py",
   "mimetype": "text/x-python",
   "name": "python",
   "nbconvert_exporter": "python",
   "pygments_lexer": "ipython3",
   "version": "3.8.3"
  }
 },
 "nbformat": 4,
 "nbformat_minor": 4
}
